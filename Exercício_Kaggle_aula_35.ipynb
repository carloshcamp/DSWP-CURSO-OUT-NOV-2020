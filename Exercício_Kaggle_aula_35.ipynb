{
  "nbformat": 4,
  "nbformat_minor": 0,
  "metadata": {
    "colab": {
      "name": "Untitled0.ipynb",
      "provenance": [],
      "authorship_tag": "ABX9TyOAvzQvPxUWkjJOYa+C3cJy",
      "include_colab_link": true
    },
    "kernelspec": {
      "name": "python3",
      "display_name": "Python 3"
    }
  },
  "cells": [
    {
      "cell_type": "markdown",
      "metadata": {
        "id": "view-in-github",
        "colab_type": "text"
      },
      "source": [
        "<a href=\"https://colab.research.google.com/github/carloshcamp/DSWP-CURSO-OUT-NOV-2020/blob/main/Exerc%C3%ADcio_Kaggle_aula_35.ipynb\" target=\"_parent\"><img src=\"https://colab.research.google.com/assets/colab-badge.svg\" alt=\"Open In Colab\"/></a>"
      ]
    },
    {
      "cell_type": "code",
      "metadata": {
        "colab": {
          "base_uri": "https://localhost:8080/"
        },
        "id": "S_DhIIGCgtT3",
        "outputId": "bc4b9d5f-efde-49e9-b2d9-295c2514f67f"
      },
      "source": [
        "!pip install pycaret"
      ],
      "execution_count": 1,
      "outputs": [
        {
          "output_type": "stream",
          "text": [
            "Collecting pycaret\n",
            "\u001b[?25l  Downloading https://files.pythonhosted.org/packages/f0/d0/390ff0f120c05795d45b353cedc81120f9c6558aae285a73e8fab62f322d/pycaret-2.2.1-py3-none-any.whl (248kB)\n",
            "\u001b[K     |████████████████████████████████| 256kB 4.6MB/s \n",
            "\u001b[?25hCollecting xgboost>=1.1.0\n",
            "\u001b[?25l  Downloading https://files.pythonhosted.org/packages/35/cc/fd3d5fc6b6616a03385a0f6492cc77a253940d1026406ecc07597095e381/xgboost-1.2.1-py3-none-manylinux2010_x86_64.whl (148.9MB)\n",
            "\u001b[K     |████████████████████████████████| 148.9MB 71kB/s \n",
            "\u001b[?25hRequirement already satisfied: cufflinks>=0.17.0 in /usr/local/lib/python3.6/dist-packages (from pycaret) (0.17.3)\n",
            "Requirement already satisfied: umap-learn in /usr/local/lib/python3.6/dist-packages (from pycaret) (0.4.6)\n",
            "Requirement already satisfied: plotly>=4.4.1 in /usr/local/lib/python3.6/dist-packages (from pycaret) (4.4.1)\n",
            "Requirement already satisfied: mlxtend in /usr/local/lib/python3.6/dist-packages (from pycaret) (0.14.0)\n",
            "Requirement already satisfied: wordcloud in /usr/local/lib/python3.6/dist-packages (from pycaret) (1.5.0)\n",
            "Requirement already satisfied: IPython in /usr/local/lib/python3.6/dist-packages (from pycaret) (5.5.0)\n",
            "Requirement already satisfied: joblib in /usr/local/lib/python3.6/dist-packages (from pycaret) (0.17.0)\n",
            "Requirement already satisfied: nltk in /usr/local/lib/python3.6/dist-packages (from pycaret) (3.2.5)\n",
            "Collecting scikit-plot\n",
            "  Downloading https://files.pythonhosted.org/packages/7c/47/32520e259340c140a4ad27c1b97050dd3254fdc517b1d59974d47037510e/scikit_plot-0.3.7-py3-none-any.whl\n",
            "Collecting pyod\n",
            "\u001b[?25l  Downloading https://files.pythonhosted.org/packages/2b/1d/22a6c4e796fff1066bf80bf59b4494d6e3582e22012a61721f4cb730b3c3/pyod-0.8.4.tar.gz (98kB)\n",
            "\u001b[K     |████████████████████████████████| 102kB 11.8MB/s \n",
            "\u001b[?25hRequirement already satisfied: pandas in /usr/local/lib/python3.6/dist-packages (from pycaret) (1.1.4)\n",
            "Requirement already satisfied: textblob in /usr/local/lib/python3.6/dist-packages (from pycaret) (0.15.3)\n",
            "Collecting yellowbrick>=1.0.1\n",
            "\u001b[?25l  Downloading https://files.pythonhosted.org/packages/1f/ad/ae6744ddb9c7053916bed95430152b9a41b7d410e16a1cc7cd744a611d90/yellowbrick-1.2-py3-none-any.whl (269kB)\n",
            "\u001b[K     |████████████████████████████████| 276kB 40.9MB/s \n",
            "\u001b[?25hRequirement already satisfied: gensim in /usr/local/lib/python3.6/dist-packages (from pycaret) (3.6.0)\n",
            "Collecting catboost>=0.23.2\n",
            "\u001b[?25l  Downloading https://files.pythonhosted.org/packages/7e/c1/c1c4707013f9e2f8a96899dd3a87f66c9167d6d776a6dc8fe7ec8678d446/catboost-0.24.3-cp36-none-manylinux1_x86_64.whl (66.3MB)\n",
            "\u001b[K     |████████████████████████████████| 66.3MB 145kB/s \n",
            "\u001b[?25hRequirement already satisfied: matplotlib in /usr/local/lib/python3.6/dist-packages (from pycaret) (3.2.2)\n",
            "Requirement already satisfied: ipywidgets in /usr/local/lib/python3.6/dist-packages (from pycaret) (7.5.1)\n",
            "Collecting lightgbm>=2.3.1\n",
            "\u001b[?25l  Downloading https://files.pythonhosted.org/packages/d6/4d/99073804bd31f15678f24a79e96981dcbaa840bc9926dfd132e9638d51bb/lightgbm-3.1.0-py2.py3-none-manylinux1_x86_64.whl (1.8MB)\n",
            "\u001b[K     |████████████████████████████████| 1.8MB 39.2MB/s \n",
            "\u001b[?25hCollecting kmodes>=0.10.1\n",
            "  Downloading https://files.pythonhosted.org/packages/b2/55/d8ec1ae1f7e1e202a8a4184c6852a3ee993b202b0459672c699d0ac18fc8/kmodes-0.10.2-py2.py3-none-any.whl\n",
            "Collecting imbalanced-learn>=0.7.0\n",
            "\u001b[?25l  Downloading https://files.pythonhosted.org/packages/c8/81/8db4d87b03b998fda7c6f835d807c9ae4e3b141f978597b8d7f31600be15/imbalanced_learn-0.7.0-py3-none-any.whl (167kB)\n",
            "\u001b[K     |████████████████████████████████| 174kB 43.8MB/s \n",
            "\u001b[?25hRequirement already satisfied: numpy>=1.17 in /usr/local/lib/python3.6/dist-packages (from pycaret) (1.18.5)\n",
            "Requirement already satisfied: spacy in /usr/local/lib/python3.6/dist-packages (from pycaret) (2.2.4)\n",
            "Collecting mlflow\n",
            "\u001b[?25l  Downloading https://files.pythonhosted.org/packages/b6/69/c6b3911ccb421adc779390ca2ea54cb888a54e282d50e8d20ce751b5c7ab/mlflow-1.12.1-py3-none-any.whl (13.9MB)\n",
            "\u001b[K     |████████████████████████████████| 13.9MB 39.1MB/s \n",
            "\u001b[?25hRequirement already satisfied: seaborn in /usr/local/lib/python3.6/dist-packages (from pycaret) (0.11.0)\n",
            "Collecting scikit-learn>=0.23.2\n",
            "\u001b[?25l  Downloading https://files.pythonhosted.org/packages/5c/a1/273def87037a7fb010512bbc5901c31cfddfca8080bc63b42b26e3cc55b3/scikit_learn-0.23.2-cp36-cp36m-manylinux1_x86_64.whl (6.8MB)\n",
            "\u001b[K     |████████████████████████████████| 6.8MB 44.1MB/s \n",
            "\u001b[?25hCollecting pyLDAvis\n",
            "\u001b[?25l  Downloading https://files.pythonhosted.org/packages/a5/3a/af82e070a8a96e13217c8f362f9a73e82d61ac8fff3a2561946a97f96266/pyLDAvis-2.1.2.tar.gz (1.6MB)\n",
            "\u001b[K     |████████████████████████████████| 1.6MB 31.6MB/s \n",
            "\u001b[?25hCollecting pandas-profiling>=2.8.0\n",
            "\u001b[?25l  Downloading https://files.pythonhosted.org/packages/32/79/5d03ed1172e3e67a997a6a795bcdd2ab58f84851969d01a91455383795b6/pandas_profiling-2.9.0-py2.py3-none-any.whl (258kB)\n",
            "\u001b[K     |████████████████████████████████| 266kB 39.1MB/s \n",
            "\u001b[?25hRequirement already satisfied: scipy in /usr/local/lib/python3.6/dist-packages (from xgboost>=1.1.0->pycaret) (1.4.1)\n",
            "Requirement already satisfied: six>=1.9.0 in /usr/local/lib/python3.6/dist-packages (from cufflinks>=0.17.0->pycaret) (1.15.0)\n",
            "Requirement already satisfied: setuptools>=34.4.1 in /usr/local/lib/python3.6/dist-packages (from cufflinks>=0.17.0->pycaret) (50.3.2)\n",
            "Requirement already satisfied: colorlover>=0.2.1 in /usr/local/lib/python3.6/dist-packages (from cufflinks>=0.17.0->pycaret) (0.3.0)\n",
            "Requirement already satisfied: numba!=0.47,>=0.46 in /usr/local/lib/python3.6/dist-packages (from umap-learn->pycaret) (0.48.0)\n",
            "Requirement already satisfied: retrying>=1.3.3 in /usr/local/lib/python3.6/dist-packages (from plotly>=4.4.1->pycaret) (1.3.3)\n",
            "Requirement already satisfied: pillow in /usr/local/lib/python3.6/dist-packages (from wordcloud->pycaret) (7.0.0)\n",
            "Requirement already satisfied: pexpect; sys_platform != \"win32\" in /usr/local/lib/python3.6/dist-packages (from IPython->pycaret) (4.8.0)\n",
            "Requirement already satisfied: pygments in /usr/local/lib/python3.6/dist-packages (from IPython->pycaret) (2.6.1)\n",
            "Requirement already satisfied: traitlets>=4.2 in /usr/local/lib/python3.6/dist-packages (from IPython->pycaret) (4.3.3)\n",
            "Requirement already satisfied: prompt-toolkit<2.0.0,>=1.0.4 in /usr/local/lib/python3.6/dist-packages (from IPython->pycaret) (1.0.18)\n",
            "Requirement already satisfied: pickleshare in /usr/local/lib/python3.6/dist-packages (from IPython->pycaret) (0.7.5)\n",
            "Requirement already satisfied: decorator in /usr/local/lib/python3.6/dist-packages (from IPython->pycaret) (4.4.2)\n",
            "Requirement already satisfied: simplegeneric>0.8 in /usr/local/lib/python3.6/dist-packages (from IPython->pycaret) (0.8.1)\n",
            "Collecting combo\n",
            "  Downloading https://files.pythonhosted.org/packages/0a/2a/61b6ac584e75d8df16dc27962aa5fe99d76b09da5b6710e83d4862c84001/combo-0.1.1.tar.gz\n",
            "Requirement already satisfied: statsmodels in /usr/local/lib/python3.6/dist-packages (from pyod->pycaret) (0.10.2)\n",
            "Collecting suod\n",
            "\u001b[?25l  Downloading https://files.pythonhosted.org/packages/a1/87/9170cabe1b5e10a7d095c0e28f2e30e7c1886a13f063de85d3cfacc06f4b/suod-0.0.4.tar.gz (2.1MB)\n",
            "\u001b[K     |████████████████████████████████| 2.1MB 41.7MB/s \n",
            "\u001b[?25hRequirement already satisfied: python-dateutil>=2.7.3 in /usr/local/lib/python3.6/dist-packages (from pandas->pycaret) (2.8.1)\n",
            "Requirement already satisfied: pytz>=2017.2 in /usr/local/lib/python3.6/dist-packages (from pandas->pycaret) (2018.9)\n",
            "Requirement already satisfied: cycler>=0.10.0 in /usr/local/lib/python3.6/dist-packages (from yellowbrick>=1.0.1->pycaret) (0.10.0)\n",
            "Requirement already satisfied: smart-open>=1.2.1 in /usr/local/lib/python3.6/dist-packages (from gensim->pycaret) (3.0.0)\n",
            "Requirement already satisfied: graphviz in /usr/local/lib/python3.6/dist-packages (from catboost>=0.23.2->pycaret) (0.10.1)\n",
            "Requirement already satisfied: pyparsing!=2.0.4,!=2.1.2,!=2.1.6,>=2.0.1 in /usr/local/lib/python3.6/dist-packages (from matplotlib->pycaret) (2.4.7)\n",
            "Requirement already satisfied: kiwisolver>=1.0.1 in /usr/local/lib/python3.6/dist-packages (from matplotlib->pycaret) (1.3.1)\n",
            "Requirement already satisfied: ipykernel>=4.5.1 in /usr/local/lib/python3.6/dist-packages (from ipywidgets->pycaret) (4.10.1)\n",
            "Requirement already satisfied: widgetsnbextension~=3.5.0 in /usr/local/lib/python3.6/dist-packages (from ipywidgets->pycaret) (3.5.1)\n",
            "Requirement already satisfied: nbformat>=4.2.0 in /usr/local/lib/python3.6/dist-packages (from ipywidgets->pycaret) (5.0.8)\n",
            "Requirement already satisfied: plac<1.2.0,>=0.9.6 in /usr/local/lib/python3.6/dist-packages (from spacy->pycaret) (1.1.3)\n",
            "Requirement already satisfied: catalogue<1.1.0,>=0.0.7 in /usr/local/lib/python3.6/dist-packages (from spacy->pycaret) (1.0.0)\n",
            "Requirement already satisfied: blis<0.5.0,>=0.4.0 in /usr/local/lib/python3.6/dist-packages (from spacy->pycaret) (0.4.1)\n",
            "Requirement already satisfied: preshed<3.1.0,>=3.0.2 in /usr/local/lib/python3.6/dist-packages (from spacy->pycaret) (3.0.4)\n",
            "Requirement already satisfied: murmurhash<1.1.0,>=0.28.0 in /usr/local/lib/python3.6/dist-packages (from spacy->pycaret) (1.0.4)\n",
            "Requirement already satisfied: wasabi<1.1.0,>=0.4.0 in /usr/local/lib/python3.6/dist-packages (from spacy->pycaret) (0.8.0)\n",
            "Requirement already satisfied: cymem<2.1.0,>=2.0.2 in /usr/local/lib/python3.6/dist-packages (from spacy->pycaret) (2.0.4)\n",
            "Requirement already satisfied: thinc==7.4.0 in /usr/local/lib/python3.6/dist-packages (from spacy->pycaret) (7.4.0)\n",
            "Requirement already satisfied: requests<3.0.0,>=2.13.0 in /usr/local/lib/python3.6/dist-packages (from spacy->pycaret) (2.23.0)\n",
            "Requirement already satisfied: tqdm<5.0.0,>=4.38.0 in /usr/local/lib/python3.6/dist-packages (from spacy->pycaret) (4.41.1)\n",
            "Requirement already satisfied: srsly<1.1.0,>=1.0.2 in /usr/local/lib/python3.6/dist-packages (from spacy->pycaret) (1.0.4)\n",
            "Requirement already satisfied: entrypoints in /usr/local/lib/python3.6/dist-packages (from mlflow->pycaret) (0.3)\n",
            "Requirement already satisfied: Flask in /usr/local/lib/python3.6/dist-packages (from mlflow->pycaret) (1.1.2)\n",
            "Requirement already satisfied: cloudpickle in /usr/local/lib/python3.6/dist-packages (from mlflow->pycaret) (1.3.0)\n",
            "Collecting azure-storage-blob\n",
            "\u001b[?25l  Downloading https://files.pythonhosted.org/packages/e7/5d/0bb4ed37da2523c393789b1d8ecbf56b1d35fa344af30fe423da2c06cbe9/azure_storage_blob-12.6.0-py2.py3-none-any.whl (328kB)\n",
            "\u001b[K     |████████████████████████████████| 337kB 41.1MB/s \n",
            "\u001b[?25hCollecting querystring-parser\n",
            "  Downloading https://files.pythonhosted.org/packages/88/6b/572b2590fd55114118bf08bde63c0a421dcc82d593700f3e2ad89908a8a9/querystring_parser-1.2.4-py2.py3-none-any.whl\n",
            "Collecting prometheus-flask-exporter\n",
            "  Downloading https://files.pythonhosted.org/packages/4c/d5/8a046d683c2cc084b6a502812827ede69b1064f95d93f94b83f809b21723/prometheus_flask_exporter-0.18.1.tar.gz\n",
            "Requirement already satisfied: protobuf>=3.6.0 in /usr/local/lib/python3.6/dist-packages (from mlflow->pycaret) (3.12.4)\n",
            "Collecting alembic<=1.4.1\n",
            "\u001b[?25l  Downloading https://files.pythonhosted.org/packages/e0/e9/359dbb77c35c419df0aedeb1d53e71e7e3f438ff64a8fdb048c907404de3/alembic-1.4.1.tar.gz (1.1MB)\n",
            "\u001b[K     |████████████████████████████████| 1.1MB 36.4MB/s \n",
            "\u001b[?25hCollecting docker>=4.0.0\n",
            "\u001b[?25l  Downloading https://files.pythonhosted.org/packages/ef/b7/eb7b7138bb5e6d28cf84fa586fe594619ca097b6207caa5f2ebe0c66a4ed/docker-4.4.0-py2.py3-none-any.whl (146kB)\n",
            "\u001b[K     |████████████████████████████████| 153kB 39.8MB/s \n",
            "\u001b[?25hCollecting gitpython>=2.1.0\n",
            "\u001b[?25l  Downloading https://files.pythonhosted.org/packages/24/d1/a7f8fe3df258549b303415157328bfcc63e9b11d06a7ad7a3327f3d32606/GitPython-3.1.11-py3-none-any.whl (159kB)\n",
            "\u001b[K     |████████████████████████████████| 163kB 48.3MB/s \n",
            "\u001b[?25hCollecting gunicorn; platform_system != \"Windows\"\n",
            "\u001b[?25l  Downloading https://files.pythonhosted.org/packages/69/ca/926f7cd3a2014b16870086b2d0fdc84a9e49473c68a8dff8b57f7c156f43/gunicorn-20.0.4-py2.py3-none-any.whl (77kB)\n",
            "\u001b[K     |████████████████████████████████| 81kB 10.0MB/s \n",
            "\u001b[?25hRequirement already satisfied: click>=7.0 in /usr/local/lib/python3.6/dist-packages (from mlflow->pycaret) (7.1.2)\n",
            "Requirement already satisfied: pyyaml in /usr/local/lib/python3.6/dist-packages (from mlflow->pycaret) (3.13)\n",
            "Requirement already satisfied: sqlparse>=0.3.1 in /usr/local/lib/python3.6/dist-packages (from mlflow->pycaret) (0.4.1)\n",
            "Collecting databricks-cli>=0.8.7\n",
            "\u001b[?25l  Downloading https://files.pythonhosted.org/packages/40/88/ae1f78cf582b707c605c77df49b4c8786a4465edc51adb25d2f98ef4c4de/databricks-cli-0.14.1.tar.gz (54kB)\n",
            "\u001b[K     |████████████████████████████████| 61kB 6.3MB/s \n",
            "\u001b[?25hRequirement already satisfied: sqlalchemy in /usr/local/lib/python3.6/dist-packages (from mlflow->pycaret) (1.3.20)\n",
            "Collecting threadpoolctl>=2.0.0\n",
            "  Downloading https://files.pythonhosted.org/packages/f7/12/ec3f2e203afa394a149911729357aa48affc59c20e2c1c8297a60f33f133/threadpoolctl-2.1.0-py3-none-any.whl\n",
            "Requirement already satisfied: wheel>=0.23.0 in /usr/local/lib/python3.6/dist-packages (from pyLDAvis->pycaret) (0.35.1)\n",
            "Requirement already satisfied: jinja2>=2.7.2 in /usr/local/lib/python3.6/dist-packages (from pyLDAvis->pycaret) (2.11.2)\n",
            "Requirement already satisfied: numexpr in /usr/local/lib/python3.6/dist-packages (from pyLDAvis->pycaret) (2.7.1)\n",
            "Requirement already satisfied: pytest in /usr/local/lib/python3.6/dist-packages (from pyLDAvis->pycaret) (3.6.4)\n",
            "Requirement already satisfied: future in /usr/local/lib/python3.6/dist-packages (from pyLDAvis->pycaret) (0.16.0)\n",
            "Collecting funcy\n",
            "  Downloading https://files.pythonhosted.org/packages/66/89/479de0afbbfb98d1c4b887936808764627300208bb771fcd823403645a36/funcy-1.15-py2.py3-none-any.whl\n",
            "Collecting visions[type_image_path]==0.5.0\n",
            "\u001b[?25l  Downloading https://files.pythonhosted.org/packages/26/e3/9416e94e767d59a86edcbcb8e1c8f42874d272c3b343676074879e9db0e0/visions-0.5.0-py3-none-any.whl (64kB)\n",
            "\u001b[K     |████████████████████████████████| 71kB 7.5MB/s \n",
            "\u001b[?25hCollecting tangled-up-in-unicode>=0.0.6\n",
            "\u001b[?25l  Downloading https://files.pythonhosted.org/packages/4a/e2/e588ab9298d4989ce7fdb2b97d18aac878d99dbdc379a4476a09d9271b68/tangled_up_in_unicode-0.0.6-py3-none-any.whl (3.1MB)\n",
            "\u001b[K     |████████████████████████████████| 3.1MB 27.6MB/s \n",
            "\u001b[?25hCollecting confuse>=1.0.0\n",
            "  Downloading https://files.pythonhosted.org/packages/6d/55/b4726d81e5d6509fa3441f770f8a9524612627dc1b2a7d6209d1d20083fe/confuse-1.4.0-py2.py3-none-any.whl\n",
            "Requirement already satisfied: missingno>=0.4.2 in /usr/local/lib/python3.6/dist-packages (from pandas-profiling>=2.8.0->pycaret) (0.4.2)\n",
            "Collecting phik>=0.9.10\n",
            "\u001b[?25l  Downloading https://files.pythonhosted.org/packages/01/5a/7ef1c04ce62cd72f900c06298dc2385840550d5c653a0dbc19109a5477e6/phik-0.10.0-py3-none-any.whl (599kB)\n",
            "\u001b[K     |████████████████████████████████| 604kB 32.8MB/s \n",
            "\u001b[?25hRequirement already satisfied: attrs>=19.3.0 in /usr/local/lib/python3.6/dist-packages (from pandas-profiling>=2.8.0->pycaret) (20.3.0)\n",
            "Collecting htmlmin>=0.1.12\n",
            "  Downloading https://files.pythonhosted.org/packages/b3/e7/fcd59e12169de19f0131ff2812077f964c6b960e7c09804d30a7bf2ab461/htmlmin-0.1.12.tar.gz\n",
            "Requirement already satisfied: llvmlite<0.32.0,>=0.31.0dev0 in /usr/local/lib/python3.6/dist-packages (from numba!=0.47,>=0.46->umap-learn->pycaret) (0.31.0)\n",
            "Requirement already satisfied: ptyprocess>=0.5 in /usr/local/lib/python3.6/dist-packages (from pexpect; sys_platform != \"win32\"->IPython->pycaret) (0.6.0)\n",
            "Requirement already satisfied: ipython-genutils in /usr/local/lib/python3.6/dist-packages (from traitlets>=4.2->IPython->pycaret) (0.2.0)\n",
            "Requirement already satisfied: wcwidth in /usr/local/lib/python3.6/dist-packages (from prompt-toolkit<2.0.0,>=1.0.4->IPython->pycaret) (0.2.5)\n",
            "Requirement already satisfied: patsy>=0.4.0 in /usr/local/lib/python3.6/dist-packages (from statsmodels->pyod->pycaret) (0.5.1)\n",
            "Requirement already satisfied: tornado>=4.0 in /usr/local/lib/python3.6/dist-packages (from ipykernel>=4.5.1->ipywidgets->pycaret) (5.1.1)\n",
            "Requirement already satisfied: jupyter-client in /usr/local/lib/python3.6/dist-packages (from ipykernel>=4.5.1->ipywidgets->pycaret) (5.3.5)\n",
            "Requirement already satisfied: notebook>=4.4.1 in /usr/local/lib/python3.6/dist-packages (from widgetsnbextension~=3.5.0->ipywidgets->pycaret) (5.3.1)\n",
            "Requirement already satisfied: jupyter-core in /usr/local/lib/python3.6/dist-packages (from nbformat>=4.2.0->ipywidgets->pycaret) (4.7.0)\n",
            "Requirement already satisfied: jsonschema!=2.5.0,>=2.4 in /usr/local/lib/python3.6/dist-packages (from nbformat>=4.2.0->ipywidgets->pycaret) (2.6.0)\n",
            "Requirement already satisfied: importlib-metadata>=0.20; python_version < \"3.8\" in /usr/local/lib/python3.6/dist-packages (from catalogue<1.1.0,>=0.0.7->spacy->pycaret) (2.0.0)\n",
            "Requirement already satisfied: certifi>=2017.4.17 in /usr/local/lib/python3.6/dist-packages (from requests<3.0.0,>=2.13.0->spacy->pycaret) (2020.11.8)\n",
            "Requirement already satisfied: chardet<4,>=3.0.2 in /usr/local/lib/python3.6/dist-packages (from requests<3.0.0,>=2.13.0->spacy->pycaret) (3.0.4)\n",
            "Requirement already satisfied: idna<3,>=2.5 in /usr/local/lib/python3.6/dist-packages (from requests<3.0.0,>=2.13.0->spacy->pycaret) (2.10)\n",
            "Requirement already satisfied: urllib3!=1.25.0,!=1.25.1,<1.26,>=1.21.1 in /usr/local/lib/python3.6/dist-packages (from requests<3.0.0,>=2.13.0->spacy->pycaret) (1.24.3)\n",
            "Requirement already satisfied: itsdangerous>=0.24 in /usr/local/lib/python3.6/dist-packages (from Flask->mlflow->pycaret) (1.1.0)\n",
            "Requirement already satisfied: Werkzeug>=0.15 in /usr/local/lib/python3.6/dist-packages (from Flask->mlflow->pycaret) (1.0.1)\n",
            "Collecting msrest>=0.6.10\n",
            "\u001b[?25l  Downloading https://files.pythonhosted.org/packages/fa/f5/9e315fe8cb985b0ce052b34bcb767883dc739f46fadb62f05a7e6d6eedbe/msrest-0.6.19-py2.py3-none-any.whl (84kB)\n",
            "\u001b[K     |████████████████████████████████| 92kB 7.2MB/s \n",
            "\u001b[?25hCollecting cryptography>=2.1.4\n",
            "\u001b[?25l  Downloading https://files.pythonhosted.org/packages/4c/a2/6565c5271a79e3c96d7a079053b4d8408a740d4bf365f0f5f244a807bd09/cryptography-3.2.1-cp35-abi3-manylinux2010_x86_64.whl (2.6MB)\n",
            "\u001b[K     |████████████████████████████████| 2.6MB 36.2MB/s \n",
            "\u001b[?25hCollecting azure-core<2.0.0,>=1.9.0\n",
            "\u001b[?25l  Downloading https://files.pythonhosted.org/packages/f8/4b/ea7faaafac956a168ab9a95a7ebe583f9d308e8332a68af0ed3128ef520c/azure_core-1.9.0-py2.py3-none-any.whl (124kB)\n",
            "\u001b[K     |████████████████████████████████| 133kB 44.2MB/s \n",
            "\u001b[?25hRequirement already satisfied: prometheus_client in /usr/local/lib/python3.6/dist-packages (from prometheus-flask-exporter->mlflow->pycaret) (0.9.0)\n",
            "Collecting Mako\n",
            "\u001b[?25l  Downloading https://files.pythonhosted.org/packages/a6/37/0e706200d22172eb8fa17d68a7ae22dec7631a0a92266634fb518a88a5b2/Mako-1.1.3-py2.py3-none-any.whl (75kB)\n",
            "\u001b[K     |████████████████████████████████| 81kB 8.3MB/s \n",
            "\u001b[?25hCollecting python-editor>=0.3\n",
            "  Downloading https://files.pythonhosted.org/packages/c6/d3/201fc3abe391bbae6606e6f1d598c15d367033332bd54352b12f35513717/python_editor-1.0.4-py3-none-any.whl\n",
            "Collecting websocket-client>=0.32.0\n",
            "\u001b[?25l  Downloading https://files.pythonhosted.org/packages/4c/5f/f61b420143ed1c8dc69f9eaec5ff1ac36109d52c80de49d66e0c36c3dfdf/websocket_client-0.57.0-py2.py3-none-any.whl (200kB)\n",
            "\u001b[K     |████████████████████████████████| 204kB 45.0MB/s \n",
            "\u001b[?25hCollecting gitdb<5,>=4.0.1\n",
            "\u001b[?25l  Downloading https://files.pythonhosted.org/packages/48/11/d1800bca0a3bae820b84b7d813ad1eff15a48a64caea9c823fc8c1b119e8/gitdb-4.0.5-py3-none-any.whl (63kB)\n",
            "\u001b[K     |████████████████████████████████| 71kB 8.2MB/s \n",
            "\u001b[?25hRequirement already satisfied: tabulate>=0.7.7 in /usr/local/lib/python3.6/dist-packages (from databricks-cli>=0.8.7->mlflow->pycaret) (0.8.7)\n",
            "Requirement already satisfied: MarkupSafe>=0.23 in /usr/local/lib/python3.6/dist-packages (from jinja2>=2.7.2->pyLDAvis->pycaret) (1.1.1)\n",
            "Requirement already satisfied: atomicwrites>=1.0 in /usr/local/lib/python3.6/dist-packages (from pytest->pyLDAvis->pycaret) (1.4.0)\n",
            "Requirement already satisfied: py>=1.5.0 in /usr/local/lib/python3.6/dist-packages (from pytest->pyLDAvis->pycaret) (1.9.0)\n",
            "Requirement already satisfied: more-itertools>=4.0.0 in /usr/local/lib/python3.6/dist-packages (from pytest->pyLDAvis->pycaret) (8.6.0)\n",
            "Requirement already satisfied: pluggy<0.8,>=0.5 in /usr/local/lib/python3.6/dist-packages (from pytest->pyLDAvis->pycaret) (0.7.1)\n",
            "Requirement already satisfied: networkx>=2.4 in /usr/local/lib/python3.6/dist-packages (from visions[type_image_path]==0.5.0->pandas-profiling>=2.8.0->pycaret) (2.5)\n",
            "Collecting imagehash; extra == \"type_image_path\"\n",
            "\u001b[?25l  Downloading https://files.pythonhosted.org/packages/8e/18/9dbb772b5ef73a3069c66bb5bf29b9fb4dd57af0d5790c781c3f559bcca6/ImageHash-4.2.0-py2.py3-none-any.whl (295kB)\n",
            "\u001b[K     |████████████████████████████████| 296kB 41.9MB/s \n",
            "\u001b[?25hRequirement already satisfied: pyzmq>=13 in /usr/local/lib/python3.6/dist-packages (from jupyter-client->ipykernel>=4.5.1->ipywidgets->pycaret) (20.0.0)\n",
            "Requirement already satisfied: nbconvert in /usr/local/lib/python3.6/dist-packages (from notebook>=4.4.1->widgetsnbextension~=3.5.0->ipywidgets->pycaret) (5.6.1)\n",
            "Requirement already satisfied: terminado>=0.8.1 in /usr/local/lib/python3.6/dist-packages (from notebook>=4.4.1->widgetsnbextension~=3.5.0->ipywidgets->pycaret) (0.9.1)\n",
            "Requirement already satisfied: Send2Trash in /usr/local/lib/python3.6/dist-packages (from notebook>=4.4.1->widgetsnbextension~=3.5.0->ipywidgets->pycaret) (1.5.0)\n",
            "Requirement already satisfied: zipp>=0.5 in /usr/local/lib/python3.6/dist-packages (from importlib-metadata>=0.20; python_version < \"3.8\"->catalogue<1.1.0,>=0.0.7->spacy->pycaret) (3.4.0)\n",
            "Collecting isodate>=0.6.0\n",
            "\u001b[?25l  Downloading https://files.pythonhosted.org/packages/9b/9f/b36f7774ff5ea8e428fdcfc4bb332c39ee5b9362ddd3d40d9516a55221b2/isodate-0.6.0-py2.py3-none-any.whl (45kB)\n",
            "\u001b[K     |████████████████████████████████| 51kB 5.6MB/s \n",
            "\u001b[?25hRequirement already satisfied: requests-oauthlib>=0.5.0 in /usr/local/lib/python3.6/dist-packages (from msrest>=0.6.10->azure-storage-blob->mlflow->pycaret) (1.3.0)\n",
            "Requirement already satisfied: cffi!=1.11.3,>=1.8 in /usr/local/lib/python3.6/dist-packages (from cryptography>=2.1.4->azure-storage-blob->mlflow->pycaret) (1.14.3)\n",
            "Collecting smmap<4,>=3.0.1\n",
            "  Downloading https://files.pythonhosted.org/packages/b0/9a/4d409a6234eb940e6a78dfdfc66156e7522262f5f2fecca07dc55915952d/smmap-3.0.4-py2.py3-none-any.whl\n",
            "Requirement already satisfied: PyWavelets in /usr/local/lib/python3.6/dist-packages (from imagehash; extra == \"type_image_path\"->visions[type_image_path]==0.5.0->pandas-profiling>=2.8.0->pycaret) (1.1.1)\n",
            "Requirement already satisfied: pandocfilters>=1.4.1 in /usr/local/lib/python3.6/dist-packages (from nbconvert->notebook>=4.4.1->widgetsnbextension~=3.5.0->ipywidgets->pycaret) (1.4.3)\n",
            "Requirement already satisfied: defusedxml in /usr/local/lib/python3.6/dist-packages (from nbconvert->notebook>=4.4.1->widgetsnbextension~=3.5.0->ipywidgets->pycaret) (0.6.0)\n",
            "Requirement already satisfied: bleach in /usr/local/lib/python3.6/dist-packages (from nbconvert->notebook>=4.4.1->widgetsnbextension~=3.5.0->ipywidgets->pycaret) (3.2.1)\n",
            "Requirement already satisfied: testpath in /usr/local/lib/python3.6/dist-packages (from nbconvert->notebook>=4.4.1->widgetsnbextension~=3.5.0->ipywidgets->pycaret) (0.4.4)\n",
            "Requirement already satisfied: mistune<2,>=0.8.1 in /usr/local/lib/python3.6/dist-packages (from nbconvert->notebook>=4.4.1->widgetsnbextension~=3.5.0->ipywidgets->pycaret) (0.8.4)\n",
            "Requirement already satisfied: oauthlib>=3.0.0 in /usr/local/lib/python3.6/dist-packages (from requests-oauthlib>=0.5.0->msrest>=0.6.10->azure-storage-blob->mlflow->pycaret) (3.1.0)\n",
            "Requirement already satisfied: pycparser in /usr/local/lib/python3.6/dist-packages (from cffi!=1.11.3,>=1.8->cryptography>=2.1.4->azure-storage-blob->mlflow->pycaret) (2.20)\n",
            "Requirement already satisfied: packaging in /usr/local/lib/python3.6/dist-packages (from bleach->nbconvert->notebook>=4.4.1->widgetsnbextension~=3.5.0->ipywidgets->pycaret) (20.4)\n",
            "Requirement already satisfied: webencodings in /usr/local/lib/python3.6/dist-packages (from bleach->nbconvert->notebook>=4.4.1->widgetsnbextension~=3.5.0->ipywidgets->pycaret) (0.5.1)\n",
            "Building wheels for collected packages: pyod, pyLDAvis, combo, suod, prometheus-flask-exporter, alembic, databricks-cli, htmlmin\n",
            "  Building wheel for pyod (setup.py) ... \u001b[?25l\u001b[?25hdone\n",
            "  Created wheel for pyod: filename=pyod-0.8.4-cp36-none-any.whl size=112083 sha256=b5ee994bd913f8d011a188920795e404214f4fbaefe08a6337a915059d87da6d\n",
            "  Stored in directory: /root/.cache/pip/wheels/ad/31/0a/c2d4ba2d066145c55f0cb2846e59b18d874cb59c5d9adc81cf\n",
            "  Building wheel for pyLDAvis (setup.py) ... \u001b[?25l\u001b[?25hdone\n",
            "  Created wheel for pyLDAvis: filename=pyLDAvis-2.1.2-py2.py3-none-any.whl size=97712 sha256=85c4f47fbacf1de931f0ee477c7758ac62bf20e7212048047591acc1ba582034\n",
            "  Stored in directory: /root/.cache/pip/wheels/98/71/24/513a99e58bb6b8465bae4d2d5e9dba8f0bef8179e3051ac414\n",
            "  Building wheel for combo (setup.py) ... \u001b[?25l\u001b[?25hdone\n",
            "  Created wheel for combo: filename=combo-0.1.1-cp36-none-any.whl size=42113 sha256=c167a962846e93c75e2bd1359df8d511831b0a94cc4dbff49cc424a9e639bddb\n",
            "  Stored in directory: /root/.cache/pip/wheels/55/ec/e5/a2331372c676c467e70c6646e646edf6997d5c4905b8c0f5e6\n",
            "  Building wheel for suod (setup.py) ... \u001b[?25l\u001b[?25hdone\n",
            "  Created wheel for suod: filename=suod-0.0.4-cp36-none-any.whl size=2167158 sha256=d7bdcc9ee7334edc727345d61a3fc29628a59d9f560cdbc5d97026f60c6e1bd7\n",
            "  Stored in directory: /root/.cache/pip/wheels/57/55/e5/a4fca65bba231f6d0115059b589148774b41faea25b3f2aa27\n",
            "  Building wheel for prometheus-flask-exporter (setup.py) ... \u001b[?25l\u001b[?25hdone\n",
            "  Created wheel for prometheus-flask-exporter: filename=prometheus_flask_exporter-0.18.1-cp36-none-any.whl size=17157 sha256=856b32020639bf2431e83f6eea4c16fd233962bb76eb75e2a39dd9c86ea55e13\n",
            "  Stored in directory: /root/.cache/pip/wheels/b4/1f/b8/66bd9bc3a9d6c6987ff6c4dfeb6f1fe97b5a0e5ed5849c0437\n",
            "  Building wheel for alembic (setup.py) ... \u001b[?25l\u001b[?25hdone\n",
            "  Created wheel for alembic: filename=alembic-1.4.1-py2.py3-none-any.whl size=158155 sha256=416b6c74b9994bde3556d9b9334096f7bf7974c16729dc252109293811ee3e88\n",
            "  Stored in directory: /root/.cache/pip/wheels/84/07/f7/12f7370ca47a66030c2edeedcc23dec26ea0ac22dcb4c4a0f3\n",
            "  Building wheel for databricks-cli (setup.py) ... \u001b[?25l\u001b[?25hdone\n",
            "  Created wheel for databricks-cli: filename=databricks_cli-0.14.1-cp36-none-any.whl size=100579 sha256=655feb9ecbc3e65eee60ef45635f469c910a51851f4ee518456af1cff9b608d1\n",
            "  Stored in directory: /root/.cache/pip/wheels/82/91/ac/5d417ee5ccbb76c8cca096cf4cfb9ed9d49d889d1d1ca0fc39\n",
            "  Building wheel for htmlmin (setup.py) ... \u001b[?25l\u001b[?25hdone\n",
            "  Created wheel for htmlmin: filename=htmlmin-0.1.12-cp36-none-any.whl size=27085 sha256=4ec07ba723a86059d38c1a2a4225aabce935df8c36ebb3a57a2195018a2d3c8f\n",
            "  Stored in directory: /root/.cache/pip/wheels/43/07/ac/7c5a9d708d65247ac1f94066cf1db075540b85716c30255459\n",
            "Successfully built pyod pyLDAvis combo suod prometheus-flask-exporter alembic databricks-cli htmlmin\n",
            "\u001b[31mERROR: pandas-profiling 2.9.0 has requirement tqdm>=4.43.0, but you'll have tqdm 4.41.1 which is incompatible.\u001b[0m\n",
            "Installing collected packages: xgboost, threadpoolctl, scikit-learn, scikit-plot, combo, suod, pyod, yellowbrick, catboost, lightgbm, kmodes, imbalanced-learn, isodate, msrest, cryptography, azure-core, azure-storage-blob, querystring-parser, prometheus-flask-exporter, Mako, python-editor, alembic, websocket-client, docker, smmap, gitdb, gitpython, gunicorn, databricks-cli, mlflow, funcy, pyLDAvis, tangled-up-in-unicode, imagehash, visions, confuse, phik, htmlmin, pandas-profiling, pycaret\n",
            "  Found existing installation: xgboost 0.90\n",
            "    Uninstalling xgboost-0.90:\n",
            "      Successfully uninstalled xgboost-0.90\n",
            "  Found existing installation: scikit-learn 0.22.2.post1\n",
            "    Uninstalling scikit-learn-0.22.2.post1:\n",
            "      Successfully uninstalled scikit-learn-0.22.2.post1\n",
            "  Found existing installation: yellowbrick 0.9.1\n",
            "    Uninstalling yellowbrick-0.9.1:\n",
            "      Successfully uninstalled yellowbrick-0.9.1\n",
            "  Found existing installation: lightgbm 2.2.3\n",
            "    Uninstalling lightgbm-2.2.3:\n",
            "      Successfully uninstalled lightgbm-2.2.3\n",
            "  Found existing installation: imbalanced-learn 0.4.3\n",
            "    Uninstalling imbalanced-learn-0.4.3:\n",
            "      Successfully uninstalled imbalanced-learn-0.4.3\n",
            "  Found existing installation: pandas-profiling 1.4.1\n",
            "    Uninstalling pandas-profiling-1.4.1:\n",
            "      Successfully uninstalled pandas-profiling-1.4.1\n",
            "Successfully installed Mako-1.1.3 alembic-1.4.1 azure-core-1.9.0 azure-storage-blob-12.6.0 catboost-0.24.3 combo-0.1.1 confuse-1.4.0 cryptography-3.2.1 databricks-cli-0.14.1 docker-4.4.0 funcy-1.15 gitdb-4.0.5 gitpython-3.1.11 gunicorn-20.0.4 htmlmin-0.1.12 imagehash-4.2.0 imbalanced-learn-0.7.0 isodate-0.6.0 kmodes-0.10.2 lightgbm-3.1.0 mlflow-1.12.1 msrest-0.6.19 pandas-profiling-2.9.0 phik-0.10.0 prometheus-flask-exporter-0.18.1 pyLDAvis-2.1.2 pycaret-2.2.1 pyod-0.8.4 python-editor-1.0.4 querystring-parser-1.2.4 scikit-learn-0.23.2 scikit-plot-0.3.7 smmap-3.0.4 suod-0.0.4 tangled-up-in-unicode-0.0.6 threadpoolctl-2.1.0 visions-0.5.0 websocket-client-0.57.0 xgboost-1.2.1 yellowbrick-1.2\n"
          ],
          "name": "stdout"
        }
      ]
    },
    {
      "cell_type": "code",
      "metadata": {
        "colab": {
          "base_uri": "https://localhost:8080/"
        },
        "id": "nFwk2JsSgwct",
        "outputId": "0234b7de-7fce-4249-c709-37675bb354a2"
      },
      "source": [
        "!pip install shap"
      ],
      "execution_count": 2,
      "outputs": [
        {
          "output_type": "stream",
          "text": [
            "Collecting shap\n",
            "\u001b[?25l  Downloading https://files.pythonhosted.org/packages/85/a3/c0eab9dd6a894165e2cb87504ff5b2710ac5ede3447d9138620b7341b6a2/shap-0.37.0.tar.gz (326kB)\n",
            "\u001b[K     |████████████████████████████████| 327kB 5.9MB/s \n",
            "\u001b[?25hRequirement already satisfied: numpy in /usr/local/lib/python3.6/dist-packages (from shap) (1.18.5)\n",
            "Requirement already satisfied: scipy in /usr/local/lib/python3.6/dist-packages (from shap) (1.4.1)\n",
            "Requirement already satisfied: scikit-learn in /usr/local/lib/python3.6/dist-packages (from shap) (0.23.2)\n",
            "Requirement already satisfied: pandas in /usr/local/lib/python3.6/dist-packages (from shap) (1.1.4)\n",
            "Requirement already satisfied: tqdm>4.25.0 in /usr/local/lib/python3.6/dist-packages (from shap) (4.41.1)\n",
            "Collecting slicer==0.0.3\n",
            "  Downloading https://files.pythonhosted.org/packages/02/a6/c708c5a0f338e99cfbcb6288b88794525548e4fc1b8457feec2c552a81a4/slicer-0.0.3-py3-none-any.whl\n",
            "Requirement already satisfied: numba in /usr/local/lib/python3.6/dist-packages (from shap) (0.48.0)\n",
            "Requirement already satisfied: joblib>=0.11 in /usr/local/lib/python3.6/dist-packages (from scikit-learn->shap) (0.17.0)\n",
            "Requirement already satisfied: threadpoolctl>=2.0.0 in /usr/local/lib/python3.6/dist-packages (from scikit-learn->shap) (2.1.0)\n",
            "Requirement already satisfied: pytz>=2017.2 in /usr/local/lib/python3.6/dist-packages (from pandas->shap) (2018.9)\n",
            "Requirement already satisfied: python-dateutil>=2.7.3 in /usr/local/lib/python3.6/dist-packages (from pandas->shap) (2.8.1)\n",
            "Requirement already satisfied: llvmlite<0.32.0,>=0.31.0dev0 in /usr/local/lib/python3.6/dist-packages (from numba->shap) (0.31.0)\n",
            "Requirement already satisfied: setuptools in /usr/local/lib/python3.6/dist-packages (from numba->shap) (50.3.2)\n",
            "Requirement already satisfied: six>=1.5 in /usr/local/lib/python3.6/dist-packages (from python-dateutil>=2.7.3->pandas->shap) (1.15.0)\n",
            "Building wheels for collected packages: shap\n",
            "  Building wheel for shap (setup.py) ... \u001b[?25l\u001b[?25hdone\n",
            "  Created wheel for shap: filename=shap-0.37.0-cp36-cp36m-linux_x86_64.whl size=463905 sha256=c09acf3729df6db4ba237087ba213fd05fae2e0012e980d624dd93e4e57f79fd\n",
            "  Stored in directory: /root/.cache/pip/wheels/df/ad/b0/aa7815ec68850d66551ef618095eccb962c8f6022f1d3dd989\n",
            "Successfully built shap\n",
            "Installing collected packages: slicer, shap\n",
            "Successfully installed shap-0.37.0 slicer-0.0.3\n"
          ],
          "name": "stdout"
        }
      ]
    },
    {
      "cell_type": "code",
      "metadata": {
        "id": "8ObFj7Z8g_Sl"
      },
      "source": [
        "import pandas as pd\n",
        "import numpy as np\n",
        "\n",
        "from matplotlib import pyplot as pyplot\n",
        "import seaborn as sns\n",
        "\n",
        "sns.set_theme(style = 'ticks', palette = 'pastel')\n",
        "\n",
        "from pycaret import regression, classification\n",
        "import shap\n",
        "\n",
        "from collections import Counter\n",
        "\n",
        "import tensorflow as tf\n",
        "from tensorflow import keras\n"
      ],
      "execution_count": 5,
      "outputs": []
    },
    {
      "cell_type": "code",
      "metadata": {
        "colab": {
          "base_uri": "https://localhost:8080/"
        },
        "id": "T0kKUWE5g_Vw",
        "outputId": "a37bcb04-40ea-4c30-e0e4-9d818aea8c4d"
      },
      "source": [
        "from pycaret.utils import enable_colab\n",
        "enable_colab()"
      ],
      "execution_count": 6,
      "outputs": [
        {
          "output_type": "stream",
          "text": [
            "Colab mode enabled.\n"
          ],
          "name": "stdout"
        }
      ]
    },
    {
      "cell_type": "code",
      "metadata": {
        "colab": {
          "base_uri": "https://localhost:8080/",
          "height": 17
        },
        "id": "1n0peq7ijNG8",
        "outputId": "b2f1b367-6702-4c16-cc92-ff96425f6f56"
      },
      "source": [
        "pd.set_option('display.precision',3)"
      ],
      "execution_count": 7,
      "outputs": [
        {
          "output_type": "display_data",
          "data": {
            "text/html": [
              "\n",
              "            <script src=\"/static/components/requirejs/require.js\"></script>\n",
              "            <script>\n",
              "              requirejs.config({\n",
              "                paths: {\n",
              "                  base: '/static/base',\n",
              "                  plotly: 'https://cdn.plot.ly/plotly-latest.min.js?noext',\n",
              "                },\n",
              "              });\n",
              "            </script>\n",
              "            "
            ],
            "text/plain": [
              "<IPython.core.display.HTML object>"
            ]
          },
          "metadata": {
            "tags": []
          }
        }
      ]
    },
    {
      "cell_type": "code",
      "metadata": {
        "colab": {
          "base_uri": "https://localhost:8080/",
          "height": 17
        },
        "id": "oW0VbwZ1jeHk",
        "outputId": "62642c42-4779-479a-c2ce-4e63e827dbc7"
      },
      "source": [
        "pd.options.display.max_columns = 50"
      ],
      "execution_count": 21,
      "outputs": [
        {
          "output_type": "display_data",
          "data": {
            "text/html": [
              "\n",
              "            <script src=\"/static/components/requirejs/require.js\"></script>\n",
              "            <script>\n",
              "              requirejs.config({\n",
              "                paths: {\n",
              "                  base: '/static/base',\n",
              "                  plotly: 'https://cdn.plot.ly/plotly-latest.min.js?noext',\n",
              "                },\n",
              "              });\n",
              "            </script>\n",
              "            "
            ],
            "text/plain": [
              "<IPython.core.display.HTML object>"
            ]
          },
          "metadata": {
            "tags": []
          }
        }
      ]
    },
    {
      "cell_type": "code",
      "metadata": {
        "colab": {
          "base_uri": "https://localhost:8080/",
          "height": 17
        },
        "id": "Wv5WA0N1jecR",
        "outputId": "5ba7e73a-27f2-4176-e311-6f10d5c0f1d5"
      },
      "source": [
        "pd.options.display.max_rows = 50"
      ],
      "execution_count": 22,
      "outputs": [
        {
          "output_type": "display_data",
          "data": {
            "text/html": [
              "\n",
              "            <script src=\"/static/components/requirejs/require.js\"></script>\n",
              "            <script>\n",
              "              requirejs.config({\n",
              "                paths: {\n",
              "                  base: '/static/base',\n",
              "                  plotly: 'https://cdn.plot.ly/plotly-latest.min.js?noext',\n",
              "                },\n",
              "              });\n",
              "            </script>\n",
              "            "
            ],
            "text/plain": [
              "<IPython.core.display.HTML object>"
            ]
          },
          "metadata": {
            "tags": []
          }
        }
      ]
    },
    {
      "cell_type": "code",
      "metadata": {
        "colab": {
          "base_uri": "https://localhost:8080/",
          "height": 17
        },
        "id": "EfNoinAIjefV",
        "outputId": "45e6c27d-bdbb-4780-f91b-9a1a053f90e2"
      },
      "source": [
        "from IPython.core.display import display, HTML\n",
        "import base64"
      ],
      "execution_count": 12,
      "outputs": [
        {
          "output_type": "display_data",
          "data": {
            "text/html": [
              "\n",
              "            <script src=\"/static/components/requirejs/require.js\"></script>\n",
              "            <script>\n",
              "              requirejs.config({\n",
              "                paths: {\n",
              "                  base: '/static/base',\n",
              "                  plotly: 'https://cdn.plot.ly/plotly-latest.min.js?noext',\n",
              "                },\n",
              "              });\n",
              "            </script>\n",
              "            "
            ],
            "text/plain": [
              "<IPython.core.display.HTML object>"
            ]
          },
          "metadata": {
            "tags": []
          }
        }
      ]
    },
    {
      "cell_type": "code",
      "metadata": {
        "colab": {
          "base_uri": "https://localhost:8080/",
          "height": 224
        },
        "id": "IpQl3wPnk2C6",
        "outputId": "9bbdb4f1-a7ac-46c2-b7d0-a912342e1633"
      },
      "source": [
        "!pip install facets-overview==1.0.0\n"
      ],
      "execution_count": 13,
      "outputs": [
        {
          "output_type": "display_data",
          "data": {
            "text/html": [
              "\n",
              "            <script src=\"/static/components/requirejs/require.js\"></script>\n",
              "            <script>\n",
              "              requirejs.config({\n",
              "                paths: {\n",
              "                  base: '/static/base',\n",
              "                  plotly: 'https://cdn.plot.ly/plotly-latest.min.js?noext',\n",
              "                },\n",
              "              });\n",
              "            </script>\n",
              "            "
            ],
            "text/plain": [
              "<IPython.core.display.HTML object>"
            ]
          },
          "metadata": {
            "tags": []
          }
        },
        {
          "output_type": "stream",
          "text": [
            "Collecting facets-overview==1.0.0\n",
            "  Downloading https://files.pythonhosted.org/packages/df/8a/0042de5450dbd9e7e0773de93fe84c999b5b078b1f60b4c19ac76b5dd889/facets_overview-1.0.0-py2.py3-none-any.whl\n",
            "Requirement already satisfied: protobuf>=3.7.0 in /usr/local/lib/python3.6/dist-packages (from facets-overview==1.0.0) (3.12.4)\n",
            "Requirement already satisfied: pandas>=0.22.0 in /usr/local/lib/python3.6/dist-packages (from facets-overview==1.0.0) (1.1.4)\n",
            "Requirement already satisfied: numpy>=1.16.0 in /usr/local/lib/python3.6/dist-packages (from facets-overview==1.0.0) (1.18.5)\n",
            "Requirement already satisfied: setuptools in /usr/local/lib/python3.6/dist-packages (from protobuf>=3.7.0->facets-overview==1.0.0) (50.3.2)\n",
            "Requirement already satisfied: six>=1.9 in /usr/local/lib/python3.6/dist-packages (from protobuf>=3.7.0->facets-overview==1.0.0) (1.15.0)\n",
            "Requirement already satisfied: pytz>=2017.2 in /usr/local/lib/python3.6/dist-packages (from pandas>=0.22.0->facets-overview==1.0.0) (2018.9)\n",
            "Requirement already satisfied: python-dateutil>=2.7.3 in /usr/local/lib/python3.6/dist-packages (from pandas>=0.22.0->facets-overview==1.0.0) (2.8.1)\n",
            "Installing collected packages: facets-overview\n",
            "Successfully installed facets-overview-1.0.0\n"
          ],
          "name": "stdout"
        }
      ]
    },
    {
      "cell_type": "code",
      "metadata": {
        "colab": {
          "base_uri": "https://localhost:8080/",
          "height": 17
        },
        "id": "5CS8lbXQk-VZ",
        "outputId": "9b9df803-653b-467e-f870-317e17b03587"
      },
      "source": [
        "from facets_overview.feature_statistics_generator import FeatureStatisticsGenerator"
      ],
      "execution_count": 15,
      "outputs": [
        {
          "output_type": "display_data",
          "data": {
            "text/html": [
              "\n",
              "            <script src=\"/static/components/requirejs/require.js\"></script>\n",
              "            <script>\n",
              "              requirejs.config({\n",
              "                paths: {\n",
              "                  base: '/static/base',\n",
              "                  plotly: 'https://cdn.plot.ly/plotly-latest.min.js?noext',\n",
              "                },\n",
              "              });\n",
              "            </script>\n",
              "            "
            ],
            "text/plain": [
              "<IPython.core.display.HTML object>"
            ]
          },
          "metadata": {
            "tags": []
          }
        }
      ]
    },
    {
      "cell_type": "code",
      "metadata": {
        "colab": {
          "base_uri": "https://localhost:8080/",
          "height": 17
        },
        "id": "3b5zwYhRlmqP",
        "outputId": "7469311c-9d68-4a9f-9d6b-7dafb410e55f"
      },
      "source": [
        "url_train = 'https://raw.githubusercontent.com/MathMachado/DataFrames/master/train_LABDATA.csv'\n",
        "url_test = 'https://raw.githubusercontent.com/MathMachado/DataFrames/master/test_LABDATA.csv'"
      ],
      "execution_count": 16,
      "outputs": [
        {
          "output_type": "display_data",
          "data": {
            "text/html": [
              "\n",
              "            <script src=\"/static/components/requirejs/require.js\"></script>\n",
              "            <script>\n",
              "              requirejs.config({\n",
              "                paths: {\n",
              "                  base: '/static/base',\n",
              "                  plotly: 'https://cdn.plot.ly/plotly-latest.min.js?noext',\n",
              "                },\n",
              "              });\n",
              "            </script>\n",
              "            "
            ],
            "text/plain": [
              "<IPython.core.display.HTML object>"
            ]
          },
          "metadata": {
            "tags": []
          }
        }
      ]
    },
    {
      "cell_type": "code",
      "metadata": {
        "colab": {
          "base_uri": "https://localhost:8080/",
          "height": 17
        },
        "id": "5bTbhC3jmmAs",
        "outputId": "413a5d64-fbc1-4548-8d29-d17e81ecd50f"
      },
      "source": [
        "df_train = pd.read_csv(url_train)\n",
        "df_test = pd.read_csv(url_test)"
      ],
      "execution_count": 38,
      "outputs": [
        {
          "output_type": "display_data",
          "data": {
            "text/html": [
              "\n",
              "            <script src=\"/static/components/requirejs/require.js\"></script>\n",
              "            <script>\n",
              "              requirejs.config({\n",
              "                paths: {\n",
              "                  base: '/static/base',\n",
              "                  plotly: 'https://cdn.plot.ly/plotly-latest.min.js?noext',\n",
              "                },\n",
              "              });\n",
              "            </script>\n",
              "            "
            ],
            "text/plain": [
              "<IPython.core.display.HTML object>"
            ]
          },
          "metadata": {
            "tags": []
          }
        }
      ]
    },
    {
      "cell_type": "code",
      "metadata": {
        "colab": {
          "base_uri": "https://localhost:8080/",
          "height": 17
        },
        "id": "ytYxz4yxmu04",
        "outputId": "5a350665-e1a4-4718-cc16-507217e42d29"
      },
      "source": [
        "df_train = pd.DataFrame(df_train)\n",
        "df_test = pd.DataFrame(df_test)"
      ],
      "execution_count": 39,
      "outputs": [
        {
          "output_type": "display_data",
          "data": {
            "text/html": [
              "\n",
              "            <script src=\"/static/components/requirejs/require.js\"></script>\n",
              "            <script>\n",
              "              requirejs.config({\n",
              "                paths: {\n",
              "                  base: '/static/base',\n",
              "                  plotly: 'https://cdn.plot.ly/plotly-latest.min.js?noext',\n",
              "                },\n",
              "              });\n",
              "            </script>\n",
              "            "
            ],
            "text/plain": [
              "<IPython.core.display.HTML object>"
            ]
          },
          "metadata": {
            "tags": []
          }
        }
      ]
    },
    {
      "cell_type": "code",
      "metadata": {
        "colab": {
          "base_uri": "https://localhost:8080/",
          "height": 309
        },
        "id": "Lt5MBlIzmxG-",
        "outputId": "9a9d97f4-15ec-4730-bd4f-4f7f55e0ecf8"
      },
      "source": [
        "df_train.head()"
      ],
      "execution_count": 40,
      "outputs": [
        {
          "output_type": "display_data",
          "data": {
            "text/html": [
              "\n",
              "            <script src=\"/static/components/requirejs/require.js\"></script>\n",
              "            <script>\n",
              "              requirejs.config({\n",
              "                paths: {\n",
              "                  base: '/static/base',\n",
              "                  plotly: 'https://cdn.plot.ly/plotly-latest.min.js?noext',\n",
              "                },\n",
              "              });\n",
              "            </script>\n",
              "            "
            ],
            "text/plain": [
              "<IPython.core.display.HTML object>"
            ]
          },
          "metadata": {
            "tags": []
          }
        },
        {
          "output_type": "execute_result",
          "data": {
            "text/html": [
              "<div>\n",
              "<style scoped>\n",
              "    .dataframe tbody tr th:only-of-type {\n",
              "        vertical-align: middle;\n",
              "    }\n",
              "\n",
              "    .dataframe tbody tr th {\n",
              "        vertical-align: top;\n",
              "    }\n",
              "\n",
              "    .dataframe thead th {\n",
              "        text-align: right;\n",
              "    }\n",
              "</style>\n",
              "<table border=\"1\" class=\"dataframe\">\n",
              "  <thead>\n",
              "    <tr style=\"text-align: right;\">\n",
              "      <th></th>\n",
              "      <th>id</th>\n",
              "      <th>gender</th>\n",
              "      <th>SeniorCitizen</th>\n",
              "      <th>Partner</th>\n",
              "      <th>Dependents</th>\n",
              "      <th>tenure</th>\n",
              "      <th>PhoneService</th>\n",
              "      <th>MultipleLines</th>\n",
              "      <th>InternetService</th>\n",
              "      <th>OnlineSecurity</th>\n",
              "      <th>OnlineBackup</th>\n",
              "      <th>DeviceProtection</th>\n",
              "      <th>TechSupport</th>\n",
              "      <th>StreamingTV</th>\n",
              "      <th>StreamingMovies</th>\n",
              "      <th>Contract</th>\n",
              "      <th>PaperlessBilling</th>\n",
              "      <th>PaymentMethod</th>\n",
              "      <th>MonthlyCharges</th>\n",
              "      <th>TotalCharges</th>\n",
              "      <th>Churn</th>\n",
              "    </tr>\n",
              "  </thead>\n",
              "  <tbody>\n",
              "    <tr>\n",
              "      <th>0</th>\n",
              "      <td>4030</td>\n",
              "      <td>Female</td>\n",
              "      <td>0</td>\n",
              "      <td>No</td>\n",
              "      <td>No</td>\n",
              "      <td>56.0</td>\n",
              "      <td>No</td>\n",
              "      <td>No phone service</td>\n",
              "      <td>DSL</td>\n",
              "      <td>Yes</td>\n",
              "      <td>Yes</td>\n",
              "      <td>Yes</td>\n",
              "      <td>Yes</td>\n",
              "      <td>No</td>\n",
              "      <td>No</td>\n",
              "      <td>Two year</td>\n",
              "      <td>No</td>\n",
              "      <td>NaN</td>\n",
              "      <td>45.05</td>\n",
              "      <td>2560.1</td>\n",
              "      <td>0</td>\n",
              "    </tr>\n",
              "    <tr>\n",
              "      <th>1</th>\n",
              "      <td>6731</td>\n",
              "      <td>Male</td>\n",
              "      <td>0</td>\n",
              "      <td>Yes</td>\n",
              "      <td>Yes</td>\n",
              "      <td>NaN</td>\n",
              "      <td>Yes</td>\n",
              "      <td>No</td>\n",
              "      <td>No</td>\n",
              "      <td>No internet service</td>\n",
              "      <td>No internet service</td>\n",
              "      <td>No internet service</td>\n",
              "      <td>No internet service</td>\n",
              "      <td>No internet service</td>\n",
              "      <td>No internet service</td>\n",
              "      <td>One year</td>\n",
              "      <td>No</td>\n",
              "      <td>Mailed check</td>\n",
              "      <td>19.65</td>\n",
              "      <td>332.65</td>\n",
              "      <td>0</td>\n",
              "    </tr>\n",
              "    <tr>\n",
              "      <th>2</th>\n",
              "      <td>6479</td>\n",
              "      <td>Female</td>\n",
              "      <td>0</td>\n",
              "      <td>Yes</td>\n",
              "      <td>No</td>\n",
              "      <td>60.0</td>\n",
              "      <td>Yes</td>\n",
              "      <td>Yes</td>\n",
              "      <td>Fiber optic</td>\n",
              "      <td>No</td>\n",
              "      <td>Yes</td>\n",
              "      <td>Yes</td>\n",
              "      <td>Yes</td>\n",
              "      <td>Yes</td>\n",
              "      <td>Yes</td>\n",
              "      <td>Two year</td>\n",
              "      <td>Yes</td>\n",
              "      <td>Credit card (automatic)</td>\n",
              "      <td>110.80</td>\n",
              "      <td>6640.7</td>\n",
              "      <td>0</td>\n",
              "    </tr>\n",
              "    <tr>\n",
              "      <th>3</th>\n",
              "      <td>6861</td>\n",
              "      <td>Female</td>\n",
              "      <td>0</td>\n",
              "      <td>No</td>\n",
              "      <td>No</td>\n",
              "      <td>37.0</td>\n",
              "      <td>Yes</td>\n",
              "      <td>Yes</td>\n",
              "      <td>Fiber optic</td>\n",
              "      <td>No</td>\n",
              "      <td>Yes</td>\n",
              "      <td>Yes</td>\n",
              "      <td>No</td>\n",
              "      <td>Yes</td>\n",
              "      <td>Yes</td>\n",
              "      <td>Month-to-month</td>\n",
              "      <td>Yes</td>\n",
              "      <td>Bank transfer (automatic)</td>\n",
              "      <td>101.90</td>\n",
              "      <td>3545.35</td>\n",
              "      <td>1</td>\n",
              "    </tr>\n",
              "    <tr>\n",
              "      <th>4</th>\n",
              "      <td>3266</td>\n",
              "      <td>Male</td>\n",
              "      <td>0</td>\n",
              "      <td>Yes</td>\n",
              "      <td>Yes</td>\n",
              "      <td>29.0</td>\n",
              "      <td>Yes</td>\n",
              "      <td>No</td>\n",
              "      <td>Fiber optic</td>\n",
              "      <td>No</td>\n",
              "      <td>No</td>\n",
              "      <td>No</td>\n",
              "      <td>No</td>\n",
              "      <td>No</td>\n",
              "      <td>No</td>\n",
              "      <td>Month-to-month</td>\n",
              "      <td>Yes</td>\n",
              "      <td>Electronic check</td>\n",
              "      <td>70.75</td>\n",
              "      <td>1974.8</td>\n",
              "      <td>1</td>\n",
              "    </tr>\n",
              "  </tbody>\n",
              "</table>\n",
              "</div>"
            ],
            "text/plain": [
              "     id  gender  SeniorCitizen Partner Dependents  tenure PhoneService  \\\n",
              "0  4030  Female              0      No         No    56.0           No   \n",
              "1  6731    Male              0     Yes        Yes     NaN          Yes   \n",
              "2  6479  Female              0     Yes         No    60.0          Yes   \n",
              "3  6861  Female              0      No         No    37.0          Yes   \n",
              "4  3266    Male              0     Yes        Yes    29.0          Yes   \n",
              "\n",
              "      MultipleLines InternetService       OnlineSecurity         OnlineBackup  \\\n",
              "0  No phone service             DSL                  Yes                  Yes   \n",
              "1                No              No  No internet service  No internet service   \n",
              "2               Yes     Fiber optic                   No                  Yes   \n",
              "3               Yes     Fiber optic                   No                  Yes   \n",
              "4                No     Fiber optic                   No                   No   \n",
              "\n",
              "      DeviceProtection          TechSupport          StreamingTV  \\\n",
              "0                  Yes                  Yes                   No   \n",
              "1  No internet service  No internet service  No internet service   \n",
              "2                  Yes                  Yes                  Yes   \n",
              "3                  Yes                   No                  Yes   \n",
              "4                   No                   No                   No   \n",
              "\n",
              "       StreamingMovies        Contract PaperlessBilling  \\\n",
              "0                   No        Two year               No   \n",
              "1  No internet service        One year               No   \n",
              "2                  Yes        Two year              Yes   \n",
              "3                  Yes  Month-to-month              Yes   \n",
              "4                   No  Month-to-month              Yes   \n",
              "\n",
              "               PaymentMethod  MonthlyCharges TotalCharges  Churn  \n",
              "0                        NaN           45.05       2560.1      0  \n",
              "1               Mailed check           19.65       332.65      0  \n",
              "2    Credit card (automatic)          110.80       6640.7      0  \n",
              "3  Bank transfer (automatic)          101.90      3545.35      1  \n",
              "4           Electronic check           70.75       1974.8      1  "
            ]
          },
          "metadata": {
            "tags": []
          },
          "execution_count": 40
        }
      ]
    },
    {
      "cell_type": "code",
      "metadata": {
        "colab": {
          "base_uri": "https://localhost:8080/",
          "height": 391
        },
        "id": "CBZK7PIHnFkL",
        "outputId": "cfb32c4f-67d5-40ad-f94b-9c376717b7db"
      },
      "source": [
        "df_train.dtypes"
      ],
      "execution_count": 41,
      "outputs": [
        {
          "output_type": "display_data",
          "data": {
            "text/html": [
              "\n",
              "            <script src=\"/static/components/requirejs/require.js\"></script>\n",
              "            <script>\n",
              "              requirejs.config({\n",
              "                paths: {\n",
              "                  base: '/static/base',\n",
              "                  plotly: 'https://cdn.plot.ly/plotly-latest.min.js?noext',\n",
              "                },\n",
              "              });\n",
              "            </script>\n",
              "            "
            ],
            "text/plain": [
              "<IPython.core.display.HTML object>"
            ]
          },
          "metadata": {
            "tags": []
          }
        },
        {
          "output_type": "execute_result",
          "data": {
            "text/plain": [
              "id                    int64\n",
              "gender               object\n",
              "SeniorCitizen         int64\n",
              "Partner              object\n",
              "Dependents           object\n",
              "tenure              float64\n",
              "PhoneService         object\n",
              "MultipleLines        object\n",
              "InternetService      object\n",
              "OnlineSecurity       object\n",
              "OnlineBackup         object\n",
              "DeviceProtection     object\n",
              "TechSupport          object\n",
              "StreamingTV          object\n",
              "StreamingMovies      object\n",
              "Contract             object\n",
              "PaperlessBilling     object\n",
              "PaymentMethod        object\n",
              "MonthlyCharges      float64\n",
              "TotalCharges         object\n",
              "Churn                 int64\n",
              "dtype: object"
            ]
          },
          "metadata": {
            "tags": []
          },
          "execution_count": 41
        }
      ]
    },
    {
      "cell_type": "code",
      "metadata": {
        "colab": {
          "base_uri": "https://localhost:8080/",
          "height": 17
        },
        "id": "GdBNS0ZynlhA",
        "outputId": "a0ab1801-e748-4580-efb0-652f11025055"
      },
      "source": [
        "df_train['TotalCharges'] = df_train['TotalCharges'].str.strip().replace('',np.nan)"
      ],
      "execution_count": 42,
      "outputs": [
        {
          "output_type": "display_data",
          "data": {
            "text/html": [
              "\n",
              "            <script src=\"/static/components/requirejs/require.js\"></script>\n",
              "            <script>\n",
              "              requirejs.config({\n",
              "                paths: {\n",
              "                  base: '/static/base',\n",
              "                  plotly: 'https://cdn.plot.ly/plotly-latest.min.js?noext',\n",
              "                },\n",
              "              });\n",
              "            </script>\n",
              "            "
            ],
            "text/plain": [
              "<IPython.core.display.HTML object>"
            ]
          },
          "metadata": {
            "tags": []
          }
        }
      ]
    },
    {
      "cell_type": "code",
      "metadata": {
        "colab": {
          "base_uri": "https://localhost:8080/",
          "height": 221
        },
        "id": "I3lX812cob2b",
        "outputId": "bcbccf82-f795-47ff-ee47-0b2c5e310bc4"
      },
      "source": [
        "df_train['TotalCharges'].value_counts()"
      ],
      "execution_count": 43,
      "outputs": [
        {
          "output_type": "display_data",
          "data": {
            "text/html": [
              "\n",
              "            <script src=\"/static/components/requirejs/require.js\"></script>\n",
              "            <script>\n",
              "              requirejs.config({\n",
              "                paths: {\n",
              "                  base: '/static/base',\n",
              "                  plotly: 'https://cdn.plot.ly/plotly-latest.min.js?noext',\n",
              "                },\n",
              "              });\n",
              "            </script>\n",
              "            "
            ],
            "text/plain": [
              "<IPython.core.display.HTML object>"
            ]
          },
          "metadata": {
            "tags": []
          }
        },
        {
          "output_type": "execute_result",
          "data": {
            "text/plain": [
              "20.2      8\n",
              "19.55     7\n",
              "20.05     6\n",
              "19.45     6\n",
              "20.25     6\n",
              "         ..\n",
              "813.45    1\n",
              "1445.3    1\n",
              "573.15    1\n",
              "54.35     1\n",
              "90.6      1\n",
              "Name: TotalCharges, Length: 5285, dtype: int64"
            ]
          },
          "metadata": {
            "tags": []
          },
          "execution_count": 43
        }
      ]
    },
    {
      "cell_type": "code",
      "metadata": {
        "colab": {
          "base_uri": "https://localhost:8080/",
          "height": 391
        },
        "id": "X3-uTLdloWOE",
        "outputId": "4e7d4168-0f81-47ec-b3fa-fe6bbbc4608a"
      },
      "source": [
        "df_train.isna().sum()"
      ],
      "execution_count": 44,
      "outputs": [
        {
          "output_type": "display_data",
          "data": {
            "text/html": [
              "\n",
              "            <script src=\"/static/components/requirejs/require.js\"></script>\n",
              "            <script>\n",
              "              requirejs.config({\n",
              "                paths: {\n",
              "                  base: '/static/base',\n",
              "                  plotly: 'https://cdn.plot.ly/plotly-latest.min.js?noext',\n",
              "                },\n",
              "              });\n",
              "            </script>\n",
              "            "
            ],
            "text/plain": [
              "<IPython.core.display.HTML object>"
            ]
          },
          "metadata": {
            "tags": []
          }
        },
        {
          "output_type": "execute_result",
          "data": {
            "text/plain": [
              "id                    0\n",
              "gender                0\n",
              "SeniorCitizen         0\n",
              "Partner               0\n",
              "Dependents          218\n",
              "tenure              461\n",
              "PhoneService          0\n",
              "MultipleLines         0\n",
              "InternetService       0\n",
              "OnlineSecurity        0\n",
              "OnlineBackup          0\n",
              "DeviceProtection      0\n",
              "TechSupport           0\n",
              "StreamingTV           0\n",
              "StreamingMovies       0\n",
              "Contract              0\n",
              "PaperlessBilling      0\n",
              "PaymentMethod        99\n",
              "MonthlyCharges        0\n",
              "TotalCharges          8\n",
              "Churn                 0\n",
              "dtype: int64"
            ]
          },
          "metadata": {
            "tags": []
          },
          "execution_count": 44
        }
      ]
    },
    {
      "cell_type": "code",
      "metadata": {
        "colab": {
          "base_uri": "https://localhost:8080/",
          "height": 17
        },
        "id": "rp3NyoKEnSIx",
        "outputId": "c5265439-41da-4622-84b8-880cc1255267"
      },
      "source": [
        "df_train['TotalCharges_2'] = df_train['TotalCharges'].astype('float64')\n",
        "#df_train['TotalCharges_2'] = pd.to_numeric(df_train['TotalCharges'], errors = 'coerce')\n",
        "#df_treino[df_treino['TotalCharges'].str.contains('[^\\d\\.]', regex=True)]"
      ],
      "execution_count": 45,
      "outputs": [
        {
          "output_type": "display_data",
          "data": {
            "text/html": [
              "\n",
              "            <script src=\"/static/components/requirejs/require.js\"></script>\n",
              "            <script>\n",
              "              requirejs.config({\n",
              "                paths: {\n",
              "                  base: '/static/base',\n",
              "                  plotly: 'https://cdn.plot.ly/plotly-latest.min.js?noext',\n",
              "                },\n",
              "              });\n",
              "            </script>\n",
              "            "
            ],
            "text/plain": [
              "<IPython.core.display.HTML object>"
            ]
          },
          "metadata": {
            "tags": []
          }
        }
      ]
    },
    {
      "cell_type": "code",
      "metadata": {
        "colab": {
          "base_uri": "https://localhost:8080/",
          "height": 17
        },
        "id": "DEBpMSFDrPzF",
        "outputId": "5fae7b64-ac89-4f65-d162-88ca6dffdf80"
      },
      "source": [
        "df_train = df_train.drop(columns=['TotalCharges'])"
      ],
      "execution_count": 47,
      "outputs": [
        {
          "output_type": "display_data",
          "data": {
            "text/html": [
              "\n",
              "            <script src=\"/static/components/requirejs/require.js\"></script>\n",
              "            <script>\n",
              "              requirejs.config({\n",
              "                paths: {\n",
              "                  base: '/static/base',\n",
              "                  plotly: 'https://cdn.plot.ly/plotly-latest.min.js?noext',\n",
              "                },\n",
              "              });\n",
              "            </script>\n",
              "            "
            ],
            "text/plain": [
              "<IPython.core.display.HTML object>"
            ]
          },
          "metadata": {
            "tags": []
          }
        }
      ]
    },
    {
      "cell_type": "code",
      "metadata": {
        "colab": {
          "base_uri": "https://localhost:8080/",
          "height": 408
        },
        "id": "FWlpYxKBnJhg",
        "outputId": "8944d312-2632-4479-ce9d-bf8b777e3d76"
      },
      "source": [
        "df_train.isna().sum()"
      ],
      "execution_count": 46,
      "outputs": [
        {
          "output_type": "display_data",
          "data": {
            "text/html": [
              "\n",
              "            <script src=\"/static/components/requirejs/require.js\"></script>\n",
              "            <script>\n",
              "              requirejs.config({\n",
              "                paths: {\n",
              "                  base: '/static/base',\n",
              "                  plotly: 'https://cdn.plot.ly/plotly-latest.min.js?noext',\n",
              "                },\n",
              "              });\n",
              "            </script>\n",
              "            "
            ],
            "text/plain": [
              "<IPython.core.display.HTML object>"
            ]
          },
          "metadata": {
            "tags": []
          }
        },
        {
          "output_type": "execute_result",
          "data": {
            "text/plain": [
              "id                    0\n",
              "gender                0\n",
              "SeniorCitizen         0\n",
              "Partner               0\n",
              "Dependents          218\n",
              "tenure              461\n",
              "PhoneService          0\n",
              "MultipleLines         0\n",
              "InternetService       0\n",
              "OnlineSecurity        0\n",
              "OnlineBackup          0\n",
              "DeviceProtection      0\n",
              "TechSupport           0\n",
              "StreamingTV           0\n",
              "StreamingMovies       0\n",
              "Contract              0\n",
              "PaperlessBilling      0\n",
              "PaymentMethod        99\n",
              "MonthlyCharges        0\n",
              "TotalCharges          8\n",
              "Churn                 0\n",
              "TotalCharges_2        8\n",
              "dtype: int64"
            ]
          },
          "metadata": {
            "tags": []
          },
          "execution_count": 46
        }
      ]
    },
    {
      "cell_type": "code",
      "metadata": {
        "colab": {
          "base_uri": "https://localhost:8080/",
          "height": 17
        },
        "id": "lE0ouhy_pdve",
        "outputId": "4b3cc4ce-9f2f-4dcc-c8ba-2d41f688d3e6"
      },
      "source": [
        "l_features_num = list(df_train.select_dtypes([np.float64,np.int64]))"
      ],
      "execution_count": 49,
      "outputs": [
        {
          "output_type": "display_data",
          "data": {
            "text/html": [
              "\n",
              "            <script src=\"/static/components/requirejs/require.js\"></script>\n",
              "            <script>\n",
              "              requirejs.config({\n",
              "                paths: {\n",
              "                  base: '/static/base',\n",
              "                  plotly: 'https://cdn.plot.ly/plotly-latest.min.js?noext',\n",
              "                },\n",
              "              });\n",
              "            </script>\n",
              "            "
            ],
            "text/plain": [
              "<IPython.core.display.HTML object>"
            ]
          },
          "metadata": {
            "tags": []
          }
        }
      ]
    },
    {
      "cell_type": "code",
      "metadata": {
        "colab": {
          "base_uri": "https://localhost:8080/",
          "height": 34
        },
        "id": "Q6XkbnEWrits",
        "outputId": "9ca10e87-9af8-473c-ab67-f11580135bd7"
      },
      "source": [
        "l_features_num"
      ],
      "execution_count": 50,
      "outputs": [
        {
          "output_type": "display_data",
          "data": {
            "text/html": [
              "\n",
              "            <script src=\"/static/components/requirejs/require.js\"></script>\n",
              "            <script>\n",
              "              requirejs.config({\n",
              "                paths: {\n",
              "                  base: '/static/base',\n",
              "                  plotly: 'https://cdn.plot.ly/plotly-latest.min.js?noext',\n",
              "                },\n",
              "              });\n",
              "            </script>\n",
              "            "
            ],
            "text/plain": [
              "<IPython.core.display.HTML object>"
            ]
          },
          "metadata": {
            "tags": []
          }
        },
        {
          "output_type": "execute_result",
          "data": {
            "text/plain": [
              "['id', 'SeniorCitizen', 'tenure', 'MonthlyCharges', 'Churn', 'TotalCharges_2']"
            ]
          },
          "metadata": {
            "tags": []
          },
          "execution_count": 50
        }
      ]
    },
    {
      "cell_type": "code",
      "metadata": {
        "colab": {
          "base_uri": "https://localhost:8080/",
          "height": 17
        },
        "id": "P2K8D6d8rpqc",
        "outputId": "cfd60196-a8ac-4e22-9562-3288e98a26e7"
      },
      "source": [
        "df_train['SeniorCitizen_2']=df_train['SeniorCitizen'].replace({0:'Não',1:'Sim'})"
      ],
      "execution_count": 59,
      "outputs": [
        {
          "output_type": "display_data",
          "data": {
            "text/html": [
              "\n",
              "            <script src=\"/static/components/requirejs/require.js\"></script>\n",
              "            <script>\n",
              "              requirejs.config({\n",
              "                paths: {\n",
              "                  base: '/static/base',\n",
              "                  plotly: 'https://cdn.plot.ly/plotly-latest.min.js?noext',\n",
              "                },\n",
              "              });\n",
              "            </script>\n",
              "            "
            ],
            "text/plain": [
              "<IPython.core.display.HTML object>"
            ]
          },
          "metadata": {
            "tags": []
          }
        }
      ]
    },
    {
      "cell_type": "code",
      "metadata": {
        "colab": {
          "base_uri": "https://localhost:8080/",
          "height": 17
        },
        "id": "8Kc3xIWcx_Sd",
        "outputId": "175aa68f-3626-4eb9-e00f-a75c7ec84ae8"
      },
      "source": [
        "df_train = df_train.drop(columns=['SeniorCitizen'])"
      ],
      "execution_count": 60,
      "outputs": [
        {
          "output_type": "display_data",
          "data": {
            "text/html": [
              "\n",
              "            <script src=\"/static/components/requirejs/require.js\"></script>\n",
              "            <script>\n",
              "              requirejs.config({\n",
              "                paths: {\n",
              "                  base: '/static/base',\n",
              "                  plotly: 'https://cdn.plot.ly/plotly-latest.min.js?noext',\n",
              "                },\n",
              "              });\n",
              "            </script>\n",
              "            "
            ],
            "text/plain": [
              "<IPython.core.display.HTML object>"
            ]
          },
          "metadata": {
            "tags": []
          }
        }
      ]
    },
    {
      "cell_type": "code",
      "metadata": {
        "colab": {
          "base_uri": "https://localhost:8080/",
          "height": 34
        },
        "id": "kqUvyjM_sStY",
        "outputId": "9363d2e9-322c-435e-8c4e-4d951b3b29cc"
      },
      "source": [
        "Counter(df_train['SeniorCitizen_2'])"
      ],
      "execution_count": 61,
      "outputs": [
        {
          "output_type": "display_data",
          "data": {
            "text/html": [
              "\n",
              "            <script src=\"/static/components/requirejs/require.js\"></script>\n",
              "            <script>\n",
              "              requirejs.config({\n",
              "                paths: {\n",
              "                  base: '/static/base',\n",
              "                  plotly: 'https://cdn.plot.ly/plotly-latest.min.js?noext',\n",
              "                },\n",
              "              });\n",
              "            </script>\n",
              "            "
            ],
            "text/plain": [
              "<IPython.core.display.HTML object>"
            ]
          },
          "metadata": {
            "tags": []
          }
        },
        {
          "output_type": "execute_result",
          "data": {
            "text/plain": [
              "Counter({'Não': 4740, 'Sim': 894})"
            ]
          },
          "metadata": {
            "tags": []
          },
          "execution_count": 61
        }
      ]
    },
    {
      "cell_type": "code",
      "metadata": {
        "colab": {
          "base_uri": "https://localhost:8080/",
          "height": 391
        },
        "id": "Q50ujFSgr4k-",
        "outputId": "64dbe8c5-499f-482d-8fe1-33bb17f8a1b3"
      },
      "source": [
        "df_train.dtypes"
      ],
      "execution_count": 53,
      "outputs": [
        {
          "output_type": "display_data",
          "data": {
            "text/html": [
              "\n",
              "            <script src=\"/static/components/requirejs/require.js\"></script>\n",
              "            <script>\n",
              "              requirejs.config({\n",
              "                paths: {\n",
              "                  base: '/static/base',\n",
              "                  plotly: 'https://cdn.plot.ly/plotly-latest.min.js?noext',\n",
              "                },\n",
              "              });\n",
              "            </script>\n",
              "            "
            ],
            "text/plain": [
              "<IPython.core.display.HTML object>"
            ]
          },
          "metadata": {
            "tags": []
          }
        },
        {
          "output_type": "execute_result",
          "data": {
            "text/plain": [
              "id                     int64\n",
              "gender                object\n",
              "SeniorCitizen       category\n",
              "Partner               object\n",
              "Dependents            object\n",
              "tenure               float64\n",
              "PhoneService          object\n",
              "MultipleLines         object\n",
              "InternetService       object\n",
              "OnlineSecurity        object\n",
              "OnlineBackup          object\n",
              "DeviceProtection      object\n",
              "TechSupport           object\n",
              "StreamingTV           object\n",
              "StreamingMovies       object\n",
              "Contract              object\n",
              "PaperlessBilling      object\n",
              "PaymentMethod         object\n",
              "MonthlyCharges       float64\n",
              "Churn                  int64\n",
              "TotalCharges_2       float64\n",
              "dtype: object"
            ]
          },
          "metadata": {
            "tags": []
          },
          "execution_count": 53
        }
      ]
    },
    {
      "cell_type": "code",
      "metadata": {
        "colab": {
          "base_uri": "https://localhost:8080/",
          "height": 17
        },
        "id": "nWtbH2PNr7yF",
        "outputId": "454fdab4-2b53-4946-ce79-ea8f8a14faf4"
      },
      "source": [
        "l_features_char = list(df_train.select_dtypes([np.object]))"
      ],
      "execution_count": 55,
      "outputs": [
        {
          "output_type": "display_data",
          "data": {
            "text/html": [
              "\n",
              "            <script src=\"/static/components/requirejs/require.js\"></script>\n",
              "            <script>\n",
              "              requirejs.config({\n",
              "                paths: {\n",
              "                  base: '/static/base',\n",
              "                  plotly: 'https://cdn.plot.ly/plotly-latest.min.js?noext',\n",
              "                },\n",
              "              });\n",
              "            </script>\n",
              "            "
            ],
            "text/plain": [
              "<IPython.core.display.HTML object>"
            ]
          },
          "metadata": {
            "tags": []
          }
        }
      ]
    },
    {
      "cell_type": "code",
      "metadata": {
        "colab": {
          "base_uri": "https://localhost:8080/",
          "height": 17
        },
        "id": "zifVOWHnwj25",
        "outputId": "79f06a11-2297-45a7-c4a0-ecf8b7ba1d0f"
      },
      "source": [
        "def mostra_dados(df):\n",
        "  fsg = FeatureStatisticsGenerator()\n",
        "  dataframes = [\n",
        "      {'table': df, 'name': 'Data'}]\n",
        "\n",
        "  censusProto = fsg.ProtoFromDataFrames(dataframes)\n",
        "  protostr = base64.b64encode(censusProto.SerializeToString()).decode(\"utf-8\")\n",
        "\n",
        "  HTML_TEMPLATE = \"\"\"<script src=\"https://cdnjs.cloudflare.com/ajax/libs/webcomponentsjs/1.3.3/webcomponents-lite.js\"></script>\n",
        "        <link rel=\"import\" href=\"https://raw.githubusercontent.com/PAIR-code/facets/1.0.0/facets-dist/facets-jupyter.html\">\n",
        "        <facets-overview id=\"elem\"></facets-overview>\n",
        "        <script>\n",
        "          document.querySelector(\"#elem\").protoInput = \"{protostr}\";\n",
        "        </script>\"\"\"\n",
        "  html = HTML_TEMPLATE.format(protostr=protostr)\n",
        "  display(HTML(html))"
      ],
      "execution_count": 57,
      "outputs": [
        {
          "output_type": "display_data",
          "data": {
            "text/html": [
              "\n",
              "            <script src=\"/static/components/requirejs/require.js\"></script>\n",
              "            <script>\n",
              "              requirejs.config({\n",
              "                paths: {\n",
              "                  base: '/static/base',\n",
              "                  plotly: 'https://cdn.plot.ly/plotly-latest.min.js?noext',\n",
              "                },\n",
              "              });\n",
              "            </script>\n",
              "            "
            ],
            "text/plain": [
              "<IPython.core.display.HTML object>"
            ]
          },
          "metadata": {
            "tags": []
          }
        }
      ]
    },
    {
      "cell_type": "code",
      "metadata": {
        "colab": {
          "base_uri": "https://localhost:8080/",
          "height": 1000
        },
        "id": "skFrfWkSxp_D",
        "outputId": "80c19161-2c68-4429-c132-90605e81bcb2"
      },
      "source": [
        "mostra_dados(df_train)"
      ],
      "execution_count": 62,
      "outputs": [
        {
          "output_type": "display_data",
          "data": {
            "text/html": [
              "\n",
              "            <script src=\"/static/components/requirejs/require.js\"></script>\n",
              "            <script>\n",
              "              requirejs.config({\n",
              "                paths: {\n",
              "                  base: '/static/base',\n",
              "                  plotly: 'https://cdn.plot.ly/plotly-latest.min.js?noext',\n",
              "                },\n",
              "              });\n",
              "            </script>\n",
              "            "
            ],
            "text/plain": [
              "<IPython.core.display.HTML object>"
            ]
          },
          "metadata": {
            "tags": []
          }
        },
        {
          "output_type": "display_data",
          "data": {
            "text/html": [
              "<script src=\"https://cdnjs.cloudflare.com/ajax/libs/webcomponentsjs/1.3.3/webcomponents-lite.js\"></script>\n",
              "        <link rel=\"import\" href=\"https://raw.githubusercontent.com/PAIR-code/facets/1.0.0/facets-dist/facets-jupyter.html\">\n",
              "        <facets-overview id=\"elem\"></facets-overview>\n",
              "        <script>\n",
              "          document.querySelector(\"#elem\").protoInput = \"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\";\n",
              "        </script>"
            ],
            "text/plain": [
              "<IPython.core.display.HTML object>"
            ]
          },
          "metadata": {
            "tags": []
          }
        }
      ]
    },
    {
      "cell_type": "code",
      "metadata": {
        "id": "ioYw7E2sxvFx"
      },
      "source": [
        ""
      ],
      "execution_count": null,
      "outputs": []
    }
  ]
}